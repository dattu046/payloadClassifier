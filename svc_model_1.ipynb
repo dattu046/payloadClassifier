{
 "cells": [
  {
   "cell_type": "code",
   "execution_count": 1,
   "metadata": {},
   "outputs": [],
   "source": [
    "import pandas as pd\n",
    "import pickle\n",
    "from sklearn.model_selection import train_test_split\n",
    "from sklearn.pipeline import Pipeline\n",
    "from sklearn.feature_extraction.text import TfidfVectorizer\n",
    "from sklearn.svm import SVC\n",
    "from sklearn.model_selection import GridSearchCV\n",
    "from sklearn.metrics import confusion_matrix\n",
    "from sklearn.metrics import accuracy_score\n",
    "import matplotlib.pyplot as plt\n",
    "import seaborn as sns"
   ]
  },
  {
   "cell_type": "code",
   "execution_count": 2,
   "metadata": {},
   "outputs": [
    {
     "name": "stdout",
     "output_type": "stream",
     "text": [
      "{\"postedBy\": \"http:3H6k7lIAiqjfNeN@00330.00072.0000326.00000316\", \"content\": \"http:3H6k7lIAiqjfNeN@00330.00072.0000326.00000316\", \"postedOn\": \"http:3H6k7lIAiqjfNeN@00330.00072.0000326.00000316\"}\n",
      "{\"postedBy\": \"/https:///www.google.com/%2f%2e%2e\", \"content\": \"/https:///www.google.com/%2f%2e%2e\", \"postedOn\": \"/https:///www.google.com/%2f%2e%2e\"}\n",
      "{\"postedBy\": \"15365381r\", \"content\": \"15365381r\", \"postedOn\": \"15365381r\"}\n",
      "{\"postedBy\": \"/https://example.com/%2e%2e\", \"content\": \"/https://example.com/%2e%2e\", \"postedOn\": \"/https://example.com/%2e%2e\"}\n",
      "{\"postedBy\": \"<input2 onpointerdown=alert(1)>XSS</input2>\", \"content\": \"<input2 onpointerdown=alert(1)>XSS</input2>\", \"postedOn\": \"<input2 onpointerdown=alert(1)>XSS</input2>\"}\n",
      "{\"postedBy\": \"http://[::216.58.214.206]\", \"content\": \"http://[::216.58.214.206]\", \"postedOn\": \"http://[::216.58.214.206]\"}\n",
      "{\"postedBy\": \"%2e%2e%5c%2e%2e%5c%2e%2e%5c%2e%2e%5c%2e%2e%5c%2e%2e%5c%2e%2e%5c%2e%2e%5c{FILE}\", \"content\": \"%2e%2e%5c%2e%2e%5c%2e%2e%5c%2e%2e%5c%2e%2e%5c%2e%2e%5c%2e%2e%5c%2e%2e%5c{FILE}\", \"postedOn\": \"%2e%2e%5c%2e%2e%5c%2e%2e%5c%2e%2e%5c%2e%2e%5c%2e%2e%5c%2e%2e%5c%2e%2e%5c{FILE}\"}\n",
      "{\"postedBy\": \"java%0d%0ascript%0d%0a:alert(0)\", \"content\": \"java%0d%0ascript%0d%0a:alert(0)\", \"postedOn\": \"java%0d%0ascript%0d%0a:alert(0)\"}\n",
      "{\"postedBy\": \"o bispar\", \"content\": \"o bispar\", \"postedOn\": \"o bispar\"}\n",
      "{\"postedBy\": \"1)) as bsvo where 3605=3605;select count(*) from rdb$fields as t1,rdb$types as t2,rdb$collations as t3,rdb$functions as t4--\", \"content\": \"1)) as bsvo where 3605=3605;select count(*) from rdb$fields as t1,rdb$types as t2,rdb$collations as t3,rdb$functions as t4--\", \"postedOn\": \"1)) as bsvo where 3605=3605;select count(*) from rdb$fields as t1,rdb$types as t2,rdb$collations as t3,rdb$functions as t4--\"}\n",
      "{\"postedBy\": \"-6823'))) or 4493=utl_inaddr.get_host_address(chr(113)||chr(113)||chr(112)||chr(106)||chr(113)||(select (case when (4493=4493) then 1 else 0 end) from dual)||chr(113)||chr(122)||chr(118)||chr(122)||chr(113)) and ((('lwlk' like 'lwlk\", \"content\": \"-6823'))) or 4493=utl_inaddr.get_host_address(chr(113)||chr(113)||chr(112)||chr(106)||chr(113)||(select (case when (4493=4493) then 1 else 0 end) from dual)||chr(113)||chr(122)||chr(118)||chr(122)||chr(113)) and ((('lwlk' like 'lwlk\", \"postedOn\": \"-6823'))) or 4493=utl_inaddr.get_host_address(chr(113)||chr(113)||chr(112)||chr(106)||chr(113)||(select (case when (4493=4493) then 1 else 0 end) from dual)||chr(113)||chr(122)||chr(118)||chr(122)||chr(113)) and ((('lwlk' like 'lwlk\"}\n",
      "{\"postedBy\": \"select current_setting('config_file');\", \"content\": \"select current_setting('config_file');\", \"postedOn\": \"select current_setting('config_file');\"}\n"
     ]
    },
    {
     "data": {
      "text/plain": [
       "43293"
      ]
     },
     "execution_count": 2,
     "metadata": {},
     "output_type": "execute_result"
    }
   ],
   "source": [
    "payload_frame = pd.read_csv(\"jsonAllPayloadsNew.csv\", sep='\\t')\n",
    "payload_frame.head()\n",
    "\n",
    "payload_frame.isnull().any()\n",
    "\n",
    "\n",
    "payload_frame.dropna(inplace=True)\n",
    "payload_frame.isnull().sum()\n",
    "\n",
    "Payload = payload_frame[\"Payload\"].astype(str)\n",
    "Classification = payload_frame[\"Type\"].astype(str)\n",
    "Set1_train, Set1_test, Set2_train, Set2_test = train_test_split(\n",
    "    Payload, Classification, test_size=0.2, random_state=555 , shuffle=True)\n",
    "\n",
    "\n",
    "for index, row in payload_frame.iterrows():\n",
    "    print(row[\"Payload\"])\n",
    "    if index > 10 :\n",
    "        break\n",
    "\n",
    "Payload.count()\n",
    "\n",
    "Set1_train.count()\n",
    "Set2_train.count()"
   ]
  },
  {
   "cell_type": "code",
   "execution_count": 3,
   "metadata": {},
   "outputs": [
    {
     "name": "stdout",
     "output_type": "stream",
     "text": [
      "Fitting 2 folds for each of 24 candidates, totalling 48 fits\n",
      "[CV 1/2] END SVC__C=1, SVC__kernel=linear, tfidf__ngram_range=(1, 3);, score=0.904 total time=35.9min\n",
      "[CV 2/2] END SVC__C=10, SVC__kernel=linear, tfidf__ngram_range=(1, 3);, score=0.932 total time=23.1min\n",
      "[CV 1/2] END SVC__C=100, SVC__kernel=linear, tfidf__ngram_range=(1, 3);, score=0.945 total time=17.8min\n"
     ]
    },
    {
     "name": "stderr",
     "output_type": "stream",
     "text": [
      "/home/sripada/anaconda3/lib/python3.9/site-packages/joblib/externals/loky/process_executor.py:702: UserWarning: A worker stopped while some jobs were given to the executor. This can be caused by a too short worker timeout or by a memory leak.\n",
      "  warnings.warn(\n"
     ]
    },
    {
     "name": "stdout",
     "output_type": "stream",
     "text": [
      "[CV 1/2] END SVC__C=1, SVC__kernel=linear, tfidf__ngram_range=(1, 4);, score=0.885 total time=39.5min\n",
      "[CV 2/2] END SVC__C=10, SVC__kernel=rbf, tfidf__ngram_range=(1, 2);, score=0.967 total time= 9.3min\n",
      "[CV 2/2] END SVC__C=10, SVC__kernel=rbf, tfidf__ngram_range=(1, 4);, score=0.954 total time=29.3min\n",
      "[CV 1/2] END SVC__C=1, SVC__kernel=linear, tfidf__ngram_range=(1, 2);, score=0.915 total time=14.4min\n",
      "[CV 2/2] END SVC__C=1, SVC__kernel=rbf, tfidf__ngram_range=(2, 2);, score=0.954 total time=12.4min\n",
      "[CV 2/2] END SVC__C=10, SVC__kernel=linear, tfidf__ngram_range=(1, 2);, score=0.946 total time= 9.8min\n",
      "[CV 2/2] END SVC__C=10, SVC__kernel=linear, tfidf__ngram_range=(1, 4);, score=0.916 total time=24.5min\n",
      "[CV 2/2] END SVC__C=100, SVC__kernel=linear, tfidf__ngram_range=(1, 3);, score=0.945 total time=17.2min\n",
      "[CV 2/2] END SVC__C=1, SVC__kernel=linear, tfidf__ngram_range=(2, 2);, score=0.935 total time=11.3min\n",
      "[CV 2/2] END SVC__C=1, SVC__kernel=rbf, tfidf__ngram_range=(1, 3);, score=0.926 total time=26.2min\n",
      "[CV 1/2] END SVC__C=10, SVC__kernel=rbf, tfidf__ngram_range=(1, 2);, score=0.968 total time=10.8min\n",
      "[CV 1/2] END SVC__C=10, SVC__kernel=rbf, tfidf__ngram_range=(1, 4);, score=0.956 total time=31.8min\n",
      "[CV 2/2] END SVC__C=1, SVC__kernel=linear, tfidf__ngram_range=(1, 4);, score=0.876 total time=33.8min\n",
      "[CV 1/2] END SVC__C=10, SVC__kernel=linear, tfidf__ngram_range=(1, 3);, score=0.930 total time=20.0min\n",
      "[CV 1/2] END SVC__C=100, SVC__kernel=linear, tfidf__ngram_range=(1, 2);, score=0.968 total time= 9.1min\n",
      "[CV 1/2] END SVC__C=100, SVC__kernel=linear, tfidf__ngram_range=(1, 4);, score=0.940 total time=25.4min\n",
      "[CV 1/2] END SVC__C=1, SVC__kernel=linear, tfidf__ngram_range=(2, 2);, score=0.935 total time=10.4min\n",
      "[CV 1/2] END SVC__C=1, SVC__kernel=rbf, tfidf__ngram_range=(1, 3);, score=0.935 total time=26.1min\n",
      "[CV 1/2] END SVC__C=10, SVC__kernel=linear, tfidf__ngram_range=(1, 4);, score=0.919 total time=24.7min\n",
      "[CV 1/2] END SVC__C=100, SVC__kernel=linear, tfidf__ngram_range=(2, 2);, score=0.975 total time= 4.8min\n",
      "[CV 2/2] END SVC__C=100, SVC__kernel=linear, tfidf__ngram_range=(1, 4);, score=0.935 total time=23.1min\n",
      "[CV 2/2] END SVC__C=1, SVC__kernel=linear, tfidf__ngram_range=(1, 3);, score=0.903 total time=36.3min\n",
      "[CV 2/2] END SVC__C=10, SVC__kernel=linear, tfidf__ngram_range=(2, 2);, score=0.963 total time= 9.0min\n",
      "[CV 1/2] END SVC__C=10, SVC__kernel=rbf, tfidf__ngram_range=(2, 2);, score=0.975 total time=13.7min\n",
      "[CV 2/2] END SVC__C=100, SVC__kernel=linear, tfidf__ngram_range=(1, 2);, score=0.968 total time= 7.2min\n",
      "[CV 1/2] END SVC__C=100, SVC__kernel=rbf, tfidf__ngram_range=(1, 2);, score=0.978 total time= 7.7min\n",
      "[CV 1/2] END SVC__C=100, SVC__kernel=rbf, tfidf__ngram_range=(2, 2);, score=0.973 total time=11.5min\n",
      "[CV 1/2] END SVC__C=1, SVC__kernel=rbf, tfidf__ngram_range=(1, 2);, score=0.937 total time=13.5min\n",
      "[CV 1/2] END SVC__C=1, SVC__kernel=rbf, tfidf__ngram_range=(2, 2);, score=0.957 total time=12.6min\n",
      "[CV 1/2] END SVC__C=10, SVC__kernel=linear, tfidf__ngram_range=(1, 2);, score=0.943 total time=10.0min\n",
      "[CV 1/2] END SVC__C=10, SVC__kernel=linear, tfidf__ngram_range=(2, 2);, score=0.963 total time= 7.0min\n",
      "[CV 1/2] END SVC__C=10, SVC__kernel=rbf, tfidf__ngram_range=(1, 3);, score=0.962 total time=23.4min\n",
      "[CV 2/2] END SVC__C=100, SVC__kernel=rbf, tfidf__ngram_range=(1, 2);, score=0.976 total time= 8.2min\n",
      "[CV 2/2] END SVC__C=100, SVC__kernel=rbf, tfidf__ngram_range=(2, 2);, score=0.974 total time=11.6min\n",
      "[CV 2/2] END SVC__C=1, SVC__kernel=linear, tfidf__ngram_range=(1, 2);, score=0.907 total time=14.6min\n",
      "[CV 1/2] END SVC__C=1, SVC__kernel=rbf, tfidf__ngram_range=(1, 4);, score=0.914 total time=30.1min\n",
      "[CV 2/2] END SVC__C=10, SVC__kernel=rbf, tfidf__ngram_range=(1, 3);, score=0.959 total time=27.7min\n",
      "[CV 2/2] END SVC__C=100, SVC__kernel=rbf, tfidf__ngram_range=(1, 3);, score=0.963 total time=23.4min\n",
      "[CV 2/2] END SVC__C=1, SVC__kernel=rbf, tfidf__ngram_range=(1, 2);, score=0.923 total time=16.3min\n",
      "[CV 2/2] END SVC__C=1, SVC__kernel=rbf, tfidf__ngram_range=(1, 4);, score=0.906 total time=30.7min\n",
      "[CV 2/2] END SVC__C=10, SVC__kernel=rbf, tfidf__ngram_range=(2, 2);, score=0.973 total time=15.6min\n",
      "[CV 2/2] END SVC__C=100, SVC__kernel=linear, tfidf__ngram_range=(2, 2);, score=0.975 total time= 6.3min\n",
      "[CV 1/2] END SVC__C=100, SVC__kernel=rbf, tfidf__ngram_range=(1, 3);, score=0.965 total time=31.1min\n",
      "[CV 2/2] END SVC__C=100, SVC__kernel=rbf, tfidf__ngram_range=(1, 4);, score=0.962 total time=27.7min\n",
      "[CV 1/2] END SVC__C=100, SVC__kernel=rbf, tfidf__ngram_range=(1, 4);, score=0.960 total time=29.3min\n",
      "Best score: 0.977\n",
      "Best parameters set:\n",
      "\tSVC__C: 100\n",
      "\tSVC__kernel: 'rbf'\n",
      "\ttfidf__ngram_range: (1, 2)\n"
     ]
    }
   ],
   "source": [
    "model_pipe = Pipeline([\n",
    "    ('tfidf' ,  TfidfVectorizer(input='content',lowercase=True , analyzer='char', max_features=2048)),\n",
    "    ('SVC' , SVC())\n",
    "\n",
    "    ])\n",
    "\n",
    "parameters = {'tfidf__ngram_range': [ (1, 2) , (1,3) , (2,2), (1,4)] ,\n",
    "              'SVC__kernel':('linear', 'rbf' ), 'SVC__C':[1, 10 , 100]\n",
    "              }\n",
    "\n",
    "grid_search = GridSearchCV(model_pipe, parameters, n_jobs=10 , cv=2,  verbose=4 )\n",
    "grid_search.fit(Set1_train,Set2_train)\n",
    "\n",
    "print(\"Best score: %0.3f\" % grid_search.best_score_)\n",
    "print(\"Best parameters set:\")\n",
    "best_parameters = grid_search.best_estimator_.get_params()\n",
    "for param_name in sorted(parameters.keys()):\n",
    "    print(\"\\t%s: %r\" % (param_name, best_parameters[param_name]))"
   ]
  },
  {
   "cell_type": "code",
   "execution_count": 4,
   "metadata": {},
   "outputs": [
    {
     "name": "stdout",
     "output_type": "stream",
     "text": [
      "[[3719   66]\n",
      " [ 121 6918]]\n",
      "              precision    recall  f1-score   support\n",
      "\n",
      "           0       0.97      0.98      0.98      3785\n",
      "           1       0.99      0.98      0.99      7039\n",
      "\n",
      "    accuracy                           0.98     10824\n",
      "   macro avg       0.98      0.98      0.98     10824\n",
      "weighted avg       0.98      0.98      0.98     10824\n",
      "\n"
     ]
    },
    {
     "data": {
      "image/png": "[encoded data removed]",
      "text/plain": [
       "<Figure size 1000x700 with 2 Axes>"
      ]
     },
     "metadata": {},
     "output_type": "display_data"
    }
   ],
   "source": [
    "model_pipe = Pipeline([\n",
    "    ('tfidf' ,  TfidfVectorizer(input='content', ngram_range=(1,2), lowercase=True , analyzer='char', max_features=5000)),\n",
    "    ('SVC' , SVC(kernel='rbf', C=10))\n",
    "    ])\n",
    "\n",
    "model_pipe.fit(Set1_train, Set2_train)\n",
    "\n",
    "accuracy_score(Set2_test,model_pipe.predict(Set1_test))\n",
    "\n",
    "set2_predict = model_pipe.predict(Set1_test)\n",
    "\n",
    "cf_matrix = confusion_matrix(Set2_test , set2_predict)\n",
    "print(cf_matrix)\n",
    "\n",
    "from sklearn.metrics import classification_report\n",
    "print(classification_report(Set2_test, set2_predict))\n",
    "\n",
    "def print_confusion_matrix(confusion_matrix, class_names, figsize = (10,7), fontsize=14):\n",
    "    # from https://gist.github.com/shaypal5/94c53d765083101efc0240d776a23823\n",
    "    df_cm = pd.DataFrame(\n",
    "        confusion_matrix, index=class_names, columns=class_names,\n",
    "    )\n",
    "    fig = plt.figure(figsize=figsize)\n",
    "    try:\n",
    "        heatmap = sns.heatmap(df_cm, annot=True, fmt=\"d\")\n",
    "    except ValueError:\n",
    "        raise ValueError(\"Confusion matrix values must be integers.\")\n",
    "    heatmap.yaxis.set_ticklabels(heatmap.yaxis.get_ticklabels(), rotation=0, ha='right', fontsize=fontsize)\n",
    "    heatmap.xaxis.set_ticklabels(heatmap.xaxis.get_ticklabels(), rotation=45, ha='right', fontsize=fontsize)\n",
    "    plt.ylabel('True label')\n",
    "    plt.xlabel('Predicted label')\n",
    "    return fig\n",
    "\n",
    "\n",
    "labels = Set2_test.unique().tolist()\n",
    "print_confusion_matrix(cf_matrix, class_names=labels);\n",
    "\n",
    "with open(\"svm.model\", \"wb\") as f:\n",
    "    pickle.dump(model_pipe , f)"
   ]
  },
  {
   "cell_type": "code",
   "execution_count": null,
   "metadata": {},
   "outputs": [],
   "source": []
  }
 ],
 "metadata": {
  "kernelspec": {
   "display_name": "Python 3 (ipykernel)",
   "language": "python",
   "name": "python3"
  },
  "language_info": {
   "codemirror_mode": {
    "name": "ipython",
    "version": 3
   },
   "file_extension": ".py",
   "mimetype": "text/x-python",
   "name": "python",
   "nbconvert_exporter": "python",
   "pygments_lexer": "ipython3",
   "version": "3.9.13"
  },
  "vscode": {
   "interpreter": {
    "hash": "ead1b95f633dc9c51826328e1846203f51a198c6fb5f2884a80417ba131d4e82"
   }
  }
 },
 "nbformat": 4,
 "nbformat_minor": 4
}
